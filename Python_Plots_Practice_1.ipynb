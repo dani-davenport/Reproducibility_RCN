{
 "cells": [
  {
   "cell_type": "markdown",
   "metadata": {},
   "source": [
    "# Making a line plot in python with pandas\n",
    "\n",
    "Chris + Dani \n",
    "Just search python, panadas when you looking for help pages"
   ]
  },
  {
   "cell_type": "code",
   "execution_count": 5,
   "metadata": {},
   "outputs": [
    {
     "name": "stdout",
     "output_type": "stream",
     "text": [
      "['JK_Master_Raw_Literature_List.xlsx', 'KM_Master_Raw_Literature_List.xlsx', 'CM_Master_Raw_Literature_List.xlsx']\n",
      "Python1_Data/JK_Master_Raw_Literature_List.xlsx\n",
      "Python1_Data/KM_Master_Raw_Literature_List.xlsx\n",
      "Python1_Data/CM_Master_Raw_Literature_List.xlsx\n"
     ]
    },
    {
     "data": {
      "text/html": [
       "<div>\n",
       "<style>\n",
       "    .dataframe thead tr:only-child th {\n",
       "        text-align: right;\n",
       "    }\n",
       "\n",
       "    .dataframe thead th {\n",
       "        text-align: left;\n",
       "    }\n",
       "\n",
       "    .dataframe tbody tr th {\n",
       "        vertical-align: top;\n",
       "    }\n",
       "</style>\n",
       "<table border=\"1\" class=\"dataframe\">\n",
       "  <thead>\n",
       "    <tr style=\"text-align: right;\">\n",
       "      <th></th>\n",
       "      <th>Back_pearl</th>\n",
       "      <th>Confidence</th>\n",
       "      <th>DOI</th>\n",
       "      <th>Data_code</th>\n",
       "      <th>Database</th>\n",
       "      <th>Effort</th>\n",
       "      <th>Eval</th>\n",
       "      <th>First_author</th>\n",
       "      <th>For_pearl</th>\n",
       "      <th>Found_by</th>\n",
       "      <th>Full _title</th>\n",
       "      <th>Method</th>\n",
       "      <th>Samp_code</th>\n",
       "      <th>Taxonomy</th>\n",
       "      <th>Unnamed: 16</th>\n",
       "      <th>Upload</th>\n",
       "      <th>Year</th>\n",
       "    </tr>\n",
       "  </thead>\n",
       "  <tbody>\n",
       "    <tr>\n",
       "      <th>0</th>\n",
       "      <td>No</td>\n",
       "      <td>Yes</td>\n",
       "      <td>https://doi.org/10.1016/j.aquatox.2020.105520</td>\n",
       "      <td>RNA</td>\n",
       "      <td>Google_Scholar</td>\n",
       "      <td>1</td>\n",
       "      <td>No</td>\n",
       "      <td>Lai</td>\n",
       "      <td>No</td>\n",
       "      <td>jk</td>\n",
       "      <td>Hypoxia causes sex-specific hepatic toxicity a...</td>\n",
       "      <td>DS</td>\n",
       "      <td>L</td>\n",
       "      <td>Oryzias melastigma</td>\n",
       "      <td>NaN</td>\n",
       "      <td>https://drive.google.com/drive/folders/11L6uNd...</td>\n",
       "      <td>2020.0</td>\n",
       "    </tr>\n",
       "    <tr>\n",
       "      <th>1</th>\n",
       "      <td>No</td>\n",
       "      <td>Yes</td>\n",
       "      <td>https://doi.org/10.1038/s41598-020-78351-w</td>\n",
       "      <td>RNA</td>\n",
       "      <td>Google_Scholar</td>\n",
       "      <td>1</td>\n",
       "      <td>No</td>\n",
       "      <td>Niu</td>\n",
       "      <td>No</td>\n",
       "      <td>jk</td>\n",
       "      <td>Multi-omic appraoch provides insights into osm...</td>\n",
       "      <td>DS</td>\n",
       "      <td>L</td>\n",
       "      <td>Scylla paramamosain</td>\n",
       "      <td>NaN</td>\n",
       "      <td>https://drive.google.com/drive/folders/11L6uNd...</td>\n",
       "      <td>2020.0</td>\n",
       "    </tr>\n",
       "    <tr>\n",
       "      <th>2</th>\n",
       "      <td>No</td>\n",
       "      <td>Yes</td>\n",
       "      <td>http://dx.doi.org/10.1098/rspb.2017.2654</td>\n",
       "      <td>RNA</td>\n",
       "      <td>Google_Scholar</td>\n",
       "      <td>1</td>\n",
       "      <td>No</td>\n",
       "      <td>Cziesielski</td>\n",
       "      <td>No</td>\n",
       "      <td>jk</td>\n",
       "      <td>Multi-omics analysis of thermal stress respons...</td>\n",
       "      <td>DS</td>\n",
       "      <td>L</td>\n",
       "      <td>Aiptasia pallida</td>\n",
       "      <td>NaN</td>\n",
       "      <td>https://drive.google.com/drive/folders/1OFGhjl...</td>\n",
       "      <td>2018.0</td>\n",
       "    </tr>\n",
       "    <tr>\n",
       "      <th>3</th>\n",
       "      <td>No</td>\n",
       "      <td>No (unsure of method)</td>\n",
       "      <td>https://doi.org/10.1007/s10811-018-1588-x</td>\n",
       "      <td>RNA</td>\n",
       "      <td>Google_Scholar</td>\n",
       "      <td>1</td>\n",
       "      <td>No</td>\n",
       "      <td>Barati</td>\n",
       "      <td>No</td>\n",
       "      <td>jk</td>\n",
       "      <td>Gene expression profile of marine Chlorella st...</td>\n",
       "      <td>DS</td>\n",
       "      <td>L</td>\n",
       "      <td>Chlorella</td>\n",
       "      <td>NaN</td>\n",
       "      <td>https://drive.google.com/drive/folders/1OFGhjl...</td>\n",
       "      <td>2018.0</td>\n",
       "    </tr>\n",
       "    <tr>\n",
       "      <th>4</th>\n",
       "      <td>No</td>\n",
       "      <td>Yes</td>\n",
       "      <td>https://doi.org/10.1016/j.scitotenv.2019.05.127</td>\n",
       "      <td>RNA</td>\n",
       "      <td>Google_Scholar</td>\n",
       "      <td>1</td>\n",
       "      <td>No</td>\n",
       "      <td>Su</td>\n",
       "      <td>No</td>\n",
       "      <td>jk</td>\n",
       "      <td>Identification of putative key genes for coast...</td>\n",
       "      <td>DS</td>\n",
       "      <td>L</td>\n",
       "      <td>Kandelia obovata</td>\n",
       "      <td>NaN</td>\n",
       "      <td>No (don't have access through W&amp;M)</td>\n",
       "      <td>2019.0</td>\n",
       "    </tr>\n",
       "  </tbody>\n",
       "</table>\n",
       "</div>"
      ],
      "text/plain": [
       "  Back_pearl             Confidence  \\\n",
       "0         No                    Yes   \n",
       "1         No                    Yes   \n",
       "2         No                    Yes   \n",
       "3         No  No (unsure of method)   \n",
       "4         No                    Yes   \n",
       "\n",
       "                                               DOI Data_code        Database  \\\n",
       "0    https://doi.org/10.1016/j.aquatox.2020.105520       RNA  Google_Scholar   \n",
       "1       https://doi.org/10.1038/s41598-020-78351-w       RNA  Google_Scholar   \n",
       "2         http://dx.doi.org/10.1098/rspb.2017.2654       RNA  Google_Scholar   \n",
       "3        https://doi.org/10.1007/s10811-018-1588-x       RNA  Google_Scholar   \n",
       "4  https://doi.org/10.1016/j.scitotenv.2019.05.127       RNA  Google_Scholar   \n",
       "\n",
       "   Effort Eval First_author For_pearl Found_by  \\\n",
       "0       1   No          Lai        No       jk   \n",
       "1       1   No          Niu        No       jk   \n",
       "2       1   No  Cziesielski        No       jk   \n",
       "3       1   No       Barati        No       jk   \n",
       "4       1   No           Su        No       jk   \n",
       "\n",
       "                                         Full _title Method Samp_code  \\\n",
       "0  Hypoxia causes sex-specific hepatic toxicity a...     DS         L   \n",
       "1  Multi-omic appraoch provides insights into osm...     DS         L   \n",
       "2  Multi-omics analysis of thermal stress respons...     DS         L   \n",
       "3  Gene expression profile of marine Chlorella st...     DS         L   \n",
       "4  Identification of putative key genes for coast...     DS         L   \n",
       "\n",
       "              Taxonomy Unnamed: 16  \\\n",
       "0   Oryzias melastigma         NaN   \n",
       "1  Scylla paramamosain         NaN   \n",
       "2     Aiptasia pallida         NaN   \n",
       "3            Chlorella         NaN   \n",
       "4     Kandelia obovata         NaN   \n",
       "\n",
       "                                              Upload    Year  \n",
       "0  https://drive.google.com/drive/folders/11L6uNd...  2020.0  \n",
       "1  https://drive.google.com/drive/folders/11L6uNd...  2020.0  \n",
       "2  https://drive.google.com/drive/folders/1OFGhjl...  2018.0  \n",
       "3  https://drive.google.com/drive/folders/1OFGhjl...  2018.0  \n",
       "4                 No (don't have access through W&M)  2019.0  "
      ]
     },
     "execution_count": 5,
     "metadata": {},
     "output_type": "execute_result"
    }
   ],
   "source": [
    "'''\n",
    "making plots for reproducibility review with chris, practice loading a file, wrangle, plot\n",
    "'''\n",
    "\n",
    "#setup\n",
    "import os \n",
    "import pandas as pd\n",
    "import matplotlib.pyplot as plt\n",
    "%matplotlib inline\n",
    "   \n",
    "pathdir = \"Python1_Data/\"\n",
    "files_xls = os.listdir(pathdir)\n",
    "print(files_xls) # only returns the filenames of the directory you passed, but not the full path to the files\n",
    "\n",
    "# init empty dataframe to put stuff in \n",
    "repo_data = pd.DataFrame()\n",
    "\n",
    "# loop through, open files, skip the first (?) lines\n",
    "for f in files_xls:\n",
    "    print(pathdir + f)\n",
    "    data = pd.read_excel(pathdir + f, 'Sheet1', skiprows = 4)\n",
    "    repo_data = repo_data.append(data)\n",
    "    \n",
    "# if you had a simple csv file or something\n",
    "#pd.read_csv(\"Practice_Plots_Round1_LitRev.csv\", encoding='utf-8') # sometimes you will get error about encoding\n",
    "\n",
    "repo_data.head()"
   ]
  },
  {
   "cell_type": "code",
   "execution_count": 6,
   "metadata": {},
   "outputs": [
    {
     "data": {
      "text/plain": [
       "Web_of_Science    154\n",
       "Google_Scholar    101\n",
       "Name: Database, dtype: int64"
      ]
     },
     "execution_count": 6,
     "metadata": {},
     "output_type": "execute_result"
    }
   ],
   "source": [
    "# how many from each repo?\n",
    "repo_data['Database'].value_counts()"
   ]
  },
  {
   "cell_type": "code",
   "execution_count": 7,
   "metadata": {},
   "outputs": [
    {
     "data": {
      "text/plain": [
       "Web_of_Science    0.603922\n",
       "Google_Scholar    0.396078\n",
       "Name: Database, dtype: float64"
      ]
     },
     "execution_count": 7,
     "metadata": {},
     "output_type": "execute_result"
    }
   ],
   "source": [
    "# get as a percentage \n",
    "repo_data['Database'].value_counts(normalize=True)"
   ]
  },
  {
   "cell_type": "code",
   "execution_count": 8,
   "metadata": {},
   "outputs": [
    {
     "name": "stdout",
     "output_type": "stream",
     "text": [
      "(255, 17)\n",
      "(240, 17)\n"
     ]
    }
   ],
   "source": [
    "'''\n",
    "Make the same chart Sam re: cumulative effort made in R, but do it in python \n",
    "'''\n",
    "# sam filtered on DOI \n",
    "\n",
    "# check before filter of DOI\n",
    "print(repo_data.shape)\n",
    "# filter\n",
    "repo_data = repo_data.drop_duplicates('DOI')\n",
    "# check after filter of DOI\n",
    "print(repo_data.shape)"
   ]
  },
  {
   "cell_type": "code",
   "execution_count": 46,
   "metadata": {},
   "outputs": [
    {
     "data": {
      "image/png": "[encoded data removed]",
      "text/plain": [
       "<Figure size 432x288 with 1 Axes>"
      ]
     },
     "metadata": {},
     "output_type": "display_data"
    }
   ],
   "source": [
    "# cumulative effort, make a new dataframe\n",
    "hits_by_effort_df = pd.DataFrame({'Hits': repo_data['Effort']})\n",
    "# get how many rows per hour \n",
    "hits_by_effort_df_toPlot = pd.DataFrame({'Counts': hits_by_effort_df['Hits'].value_counts().sort_index(ascending=True)}) # you need to sort index to get the rows in the correct order here\n",
    "hits_by_effort_df_toPlot['Cumulative Effort'] = hits_by_effort_df_toPlot['Counts'].cumsum()# add cumsum \n",
    "hits_by_effort_df_toPlot\n",
    "\n",
    "# make a line plot\n",
    "plt = hits_by_effort_df_toPlot.plot(style='.-', y= 'Cumulative Effort', legend=False) #. the style='.-' adds points to the line\n",
    "plt.set_ylabel(\"Cumulative Effort\") # ylab\n",
    "plt.set_xlabel(\"Time (Hours)\")  # xlab\n",
    "plt.get_lines()[0].set_color(\"black\") # change the line color after the fact "
   ]
  },
  {
   "cell_type": "code",
   "execution_count": null,
   "metadata": {
    "collapsed": true
   },
   "outputs": [],
   "source": []
  }
 ],
 "metadata": {
  "kernelspec": {
   "display_name": "Python 3",
   "language": "python",
   "name": "python3"
  },
  "language_info": {
   "codemirror_mode": {
    "name": "ipython",
    "version": 3
   },
   "file_extension": ".py",
   "mimetype": "text/x-python",
   "name": "python",
   "nbconvert_exporter": "python",
   "pygments_lexer": "ipython3",
   "version": "3.6.8"
  }
 },
 "nbformat": 4,
 "nbformat_minor": 2
}
